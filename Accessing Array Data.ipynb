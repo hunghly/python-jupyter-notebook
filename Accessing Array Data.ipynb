{
 "cells": [
  {
   "cell_type": "markdown",
   "metadata": {},
   "source": [
    "Operations to get elements or properties of an array"
   ]
  },
  {
   "cell_type": "code",
   "execution_count": 1,
   "metadata": {},
   "outputs": [],
   "source": [
    "import numpy as np"
   ]
  },
  {
   "cell_type": "code",
   "execution_count": 2,
   "metadata": {},
   "outputs": [
    {
     "name": "stdout",
     "output_type": "stream",
     "text": [
      "[ 0  1  2  3  4  5  6  7  8  9 10]\n"
     ]
    }
   ],
   "source": [
    "an_array = np.arange(0,11)\n",
    "print(an_array)"
   ]
  },
  {
   "cell_type": "code",
   "execution_count": 3,
   "metadata": {
    "scrolled": true
   },
   "outputs": [
    {
     "name": "stdout",
     "output_type": "stream",
     "text": [
      "0\n",
      "10\n"
     ]
    }
   ],
   "source": [
    "first_element = an_array[0]\n",
    "print(first_element)\n",
    "last_element = an_array[len(an_array) - 1]\n",
    "print(last_element)"
   ]
  },
  {
   "cell_type": "code",
   "execution_count": 4,
   "metadata": {},
   "outputs": [
    {
     "name": "stdout",
     "output_type": "stream",
     "text": [
      "[0 1 2 3 4]\n",
      "[ 0  2  4  6  8 10]\n",
      "[5 4 3 2 1 0]\n",
      "10\n",
      "[ 9 10]\n",
      "[0 1 2 3 4 5 6 7 8]\n"
     ]
    }
   ],
   "source": [
    "first_five = an_array[0:5]\n",
    "print(first_five)\n",
    "skip_two = an_array[0::2]\n",
    "print(skip_two)\n",
    "count_down = an_array[5::-1] #a stride\n",
    "print(count_down)\n",
    "last_item = an_array[:-1]\n",
    "print(last_element)\n",
    "last_two = an_array[-2:]\n",
    "print(last_two)\n",
    "count_until_last_two = an_array[:-2]\n",
    "print(count_until_last_two)"
   ]
  },
  {
   "cell_type": "code",
   "execution_count": 5,
   "metadata": {},
   "outputs": [
    {
     "name": "stdout",
     "output_type": "stream",
     "text": [
      "[[1 2 3]\n",
      " [4 5 6]\n",
      " [7 8 9]]\n"
     ]
    }
   ],
   "source": [
    "matrix = np.array([[1,2,3],\n",
    "                 [4,5,6],\n",
    "                 [7,8,9]])\n",
    "print(matrix)"
   ]
  },
  {
   "cell_type": "code",
   "execution_count": 39,
   "metadata": {},
   "outputs": [
    {
     "name": "stdout",
     "output_type": "stream",
     "text": [
      "11\n",
      "11\n",
      "10\n",
      "[0, 1, 2, 3, 4, 5, 6, 7, 8, 9]\n",
      "10\n",
      "0\n",
      "5.0\n"
     ]
    }
   ],
   "source": [
    "print(an_array.size) # prints the array size\n",
    "print(len(an_array))\n",
    "print(np.amax(an_array)) #returns the max of an arrayed \n",
    "normal_array = list(range(0,10))\n",
    "print(normal_array)\n",
    "print(len(normal_array))\n",
    "print(np.amin(an_array))\n",
    "print(np.average(an_array))"
   ]
  },
  {
   "cell_type": "code",
   "execution_count": null,
   "metadata": {},
   "outputs": [],
   "source": []
  },
  {
   "cell_type": "code",
   "execution_count": null,
   "metadata": {},
   "outputs": [],
   "source": []
  }
 ],
 "metadata": {
  "kernelspec": {
   "display_name": "Python 3",
   "language": "python",
   "name": "python3"
  },
  "language_info": {
   "codemirror_mode": {
    "name": "ipython",
    "version": 3
   },
   "file_extension": ".py",
   "mimetype": "text/x-python",
   "name": "python",
   "nbconvert_exporter": "python",
   "pygments_lexer": "ipython3",
   "version": "3.7.6"
  }
 },
 "nbformat": 4,
 "nbformat_minor": 4
}
