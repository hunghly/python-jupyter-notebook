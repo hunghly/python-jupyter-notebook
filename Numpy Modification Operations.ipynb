{
 "cells": [
  {
   "cell_type": "code",
   "execution_count": 1,
   "metadata": {},
   "outputs": [],
   "source": [
    "import numpy as np"
   ]
  },
  {
   "cell_type": "code",
   "execution_count": 4,
   "metadata": {},
   "outputs": [
    {
     "name": "stdout",
     "output_type": "stream",
     "text": [
      "[0 1 2 3 4 5]\n"
     ]
    }
   ],
   "source": [
    "an_array = np.arange(0,6)\n",
    "print(an_array)"
   ]
  },
  {
   "cell_type": "code",
   "execution_count": 6,
   "metadata": {},
   "outputs": [
    {
     "name": "stdout",
     "output_type": "stream",
     "text": [
      "[10  1  2  3  4  5]\n"
     ]
    }
   ],
   "source": [
    "an_array[0] = 10\n",
    "print(an_array)"
   ]
  },
  {
   "cell_type": "code",
   "execution_count": 21,
   "metadata": {},
   "outputs": [
    {
     "name": "stdout",
     "output_type": "stream",
     "text": [
      "[0 1 2 3 4 5]\n",
      "[0 1 2 3 4 5 6 7 8 9]\n",
      "[ 0  1  2  3  4  5  6  7  8  9 10]\n",
      "[10 11  0  1  2  3  4  5]\n",
      "[0 1 2 4 5]\n",
      "[0 1 2 3 4 5]\n"
     ]
    }
   ],
   "source": [
    "an_array = np.arange(0,6)\n",
    "print(an_array)\n",
    "print(np.append(an_array, [6, 7, 8, 9]))\n",
    "append_copy = np.append(an_array, [6,7,8,9,10])\n",
    "print(append_copy)\n",
    "insert_copy = np.insert(an_array, 0, [10, 11]) # inserts 10, 11 at 0 index\n",
    "print(insert_copy)\n",
    "delete_copy = np.delete(an_array, 3) # deletes the 3rd index\n",
    "print(delete_copy)\n",
    "print(an_array)"
   ]
  },
  {
   "cell_type": "code",
   "execution_count": 23,
   "metadata": {},
   "outputs": [
    {
     "name": "stdout",
     "output_type": "stream",
     "text": [
      "[ 0  2  4  6  8 10]\n",
      "[2 3 4 5 6 7]\n"
     ]
    }
   ],
   "source": [
    "print(an_array * 2) #takes every element and multiplies it by two similiar to map\n",
    "print(an_array + 2) #takes all elements and adds 2"
   ]
  },
  {
   "cell_type": "code",
   "execution_count": 28,
   "metadata": {},
   "outputs": [
    {
     "name": "stdout",
     "output_type": "stream",
     "text": [
      "[21 10  9  6  3  1]\n"
     ]
    }
   ],
   "source": [
    "another_array = np.array([3, 6, 21, 9, 10, 1])\n",
    "another_array = np.sort(another_array) # sort in asc order\n",
    "another_array = -np.sort(-another_array) # sort in desc order\n",
    "print(another_array)"
   ]
  }
 ],
 "metadata": {
  "kernelspec": {
   "display_name": "Python 3",
   "language": "python",
   "name": "python3"
  },
  "language_info": {
   "codemirror_mode": {
    "name": "ipython",
    "version": 3
   },
   "file_extension": ".py",
   "mimetype": "text/x-python",
   "name": "python",
   "nbconvert_exporter": "python",
   "pygments_lexer": "ipython3",
   "version": "3.7.6"
  }
 },
 "nbformat": 4,
 "nbformat_minor": 4
}
