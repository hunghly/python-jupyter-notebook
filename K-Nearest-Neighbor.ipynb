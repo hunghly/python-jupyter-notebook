{
 "cells": [
  {
   "cell_type": "code",
   "execution_count": 1,
   "metadata": {},
   "outputs": [],
   "source": [
    "#KNN separates data into regions i.e. 'classification'\n",
    "#k - value checks the closest 'k' neighbors around the datapoint\n",
    "#weights - uniform gives equal importance to data points\n",
    "#weights - distance gives more importance to closer data points"
   ]
  },
  {
   "cell_type": "code",
   "execution_count": 2,
   "metadata": {},
   "outputs": [],
   "source": [
    "import numpy as np\n",
    "import pandas as pd\n",
    "from sklearn import neighbors, metrics\n",
    "from sklearn.model_selection import train_test_split\n",
    "from sklearn.preprocessing import LabelEncoder"
   ]
  },
  {
   "cell_type": "code",
   "execution_count": 3,
   "metadata": {},
   "outputs": [],
   "source": [
    "data = pd.read_csv('files/car.data')"
   ]
  },
  {
   "cell_type": "code",
   "execution_count": 4,
   "metadata": {},
   "outputs": [
    {
     "name": "stdout",
     "output_type": "stream",
     "text": [
      "Index(['buying', 'maint', 'doors', 'persons', 'lug_boot', 'safety', 'class'], dtype='object')\n"
     ]
    }
   ],
   "source": [
    "print(data.keys())"
   ]
  },
  {
   "cell_type": "code",
   "execution_count": 5,
   "metadata": {},
   "outputs": [
    {
     "name": "stdout",
     "output_type": "stream",
     "text": [
      "  buying  maint doors persons lug_boot safety  class\n",
      "0  vhigh  vhigh     2       2    small    low  unacc\n",
      "1  vhigh  vhigh     2       2    small    med  unacc\n",
      "2  vhigh  vhigh     2       2    small   high  unacc\n",
      "3  vhigh  vhigh     2       2      med    low  unacc\n",
      "4  vhigh  vhigh     2       2      med    med  unacc\n"
     ]
    }
   ],
   "source": [
    "print(data.head()) # I added the headings into the dataset"
   ]
  },
  {
   "cell_type": "code",
   "execution_count": 6,
   "metadata": {},
   "outputs": [
    {
     "name": "stdout",
     "output_type": "stream",
     "text": [
      "[['vhigh' 'vhigh' 'low']\n",
      " ['vhigh' 'vhigh' 'med']\n",
      " ['vhigh' 'vhigh' 'high']\n",
      " ...\n",
      " ['low' 'low' 'low']\n",
      " ['low' 'low' 'med']\n",
      " ['low' 'low' 'high']]       class\n",
      "0     unacc\n",
      "1     unacc\n",
      "2     unacc\n",
      "3     unacc\n",
      "4     unacc\n",
      "...     ...\n",
      "1723   good\n",
      "1724  vgood\n",
      "1725  unacc\n",
      "1726   good\n",
      "1727  vgood\n",
      "\n",
      "[1728 rows x 1 columns]\n"
     ]
    }
   ],
   "source": [
    "X = data[[ # retrieve the data that we want to analyze\n",
    "    'buying',\n",
    "    'maint',\n",
    "    'safety'\n",
    "]].values\n",
    "y = data[['class']] # retrieve the targets/class\n",
    "print(X, y) "
   ]
  },
  {
   "cell_type": "code",
   "execution_count": 7,
   "metadata": {},
   "outputs": [
    {
     "name": "stdout",
     "output_type": "stream",
     "text": [
      "[[3 3 1]\n",
      " [3 3 2]\n",
      " [3 3 0]\n",
      " ...\n",
      " [1 1 1]\n",
      " [1 1 2]\n",
      " [1 1 0]]\n"
     ]
    }
   ],
   "source": [
    "#converting the data\n",
    "#Converting X\n",
    "Le = LabelEncoder() #Encode target labels with value between 0 and n_classes-1. (assign a numeric value to each class)\n",
    "for i in range(len(X[0])):\n",
    "    X[:,i] = Le.fit_transform(X[:,i]) #\n",
    "print(X)"
   ]
  },
  {
   "cell_type": "code",
   "execution_count": 8,
   "metadata": {},
   "outputs": [
    {
     "name": "stdout",
     "output_type": "stream",
     "text": [
      "[[0]\n",
      " [0]\n",
      " [0]\n",
      " ...\n",
      " [0]\n",
      " [2]\n",
      " [3]]\n"
     ]
    },
    {
     "name": "stderr",
     "output_type": "stream",
     "text": [
      "<ipython-input-8-550429200290>:8: SettingWithCopyWarning: \n",
      "A value is trying to be set on a copy of a slice from a DataFrame.\n",
      "Try using .loc[row_indexer,col_indexer] = value instead\n",
      "\n",
      "See the caveats in the documentation: https://pandas.pydata.org/pandas-docs/stable/user_guide/indexing.html#returning-a-view-versus-a-copy\n",
      "  y['class'] = y['class'].map(label_mapping) #will map the labels inside of the arrays\n"
     ]
    }
   ],
   "source": [
    "#converting y\n",
    "label_mapping = {\n",
    "    'unacc': 0,\n",
    "    'acc': 1,\n",
    "    'good': 2,\n",
    "    'vgood': 3\n",
    "}\n",
    "y['class'] = y['class'].map(label_mapping) #will map the labels inside of the arrays\n",
    "y = np.array(y)\n",
    "print(y)"
   ]
  },
  {
   "cell_type": "code",
   "execution_count": 14,
   "metadata": {},
   "outputs": [
    {
     "name": "stdout",
     "output_type": "stream",
     "text": [
      "prediction [0 1 1 0 0 0 0 1 0 0 0 0 0 0 0 0 1 1 1 0 0 0 1 0 1 0 1 0 1 0 0 0 0 1 0 0 0\n",
      " 0 0 1 0 0 0 0 0 0 0 0 0 0 0 1 1 0 1 0 0 0 1 0 0 1 0 0 0 0 0 0 0 1 0 0 0 0\n",
      " 0 0 0 1 0 0 0 0 0 0 1 1 1 0 1 0 0 0 0 0 0 0 0 1 0 0 1 0 0 1 1 0 0 0 0 1 0\n",
      " 0 0 0 0 0 0 0 0 1 0 1 0 1 0 1 0 0 1 0 0 0 0 0 0 0 1 0 1 0 0 0 0 0 0 1 1 0\n",
      " 1 0 0 0 0 0 0 0 0 1 0 0 0 1 0 0 1 1 0 1 0 1 0 0 0 0 1 0 0 0 0 0 0 0 0 0 0\n",
      " 0 0 0 0 0 0 0 0 1 1 0 0 1 1 0 0 0 0 0 1 1 1 0 0 0 0 0 1 0 0 1 0 0 1 1 0 0\n",
      " 0 1 0 1 0 0 0 1 0 0 1 0 1 1 0 0 0 0 0 0 0 0 0 1 1 0 0 0 0 0 0 1 0 0 1 0 1\n",
      " 1 0 0 0 0 0 0 1 0 0 0 0 0 1 1 0 0 0 0 0 0 0 1 1 0 0 1 0 1 0 0 0 0 0 0 0 1\n",
      " 0 0 0 0 0 1 0 1 0 0 0 0 0 0 1 0 0 0 0 0 0 1 0 1 1 0 0 0 0 0 0 1 0 1 0 0 0\n",
      " 0 1 0 0 0 0 0 1 0 0 0 1 0]\n",
      "accuracy 0.7456647398843931\n"
     ]
    },
    {
     "name": "stderr",
     "output_type": "stream",
     "text": [
      "<ipython-input-14-9937b2ebb6d4>:6: DataConversionWarning: A column-vector y was passed when a 1d array was expected. Please change the shape of y to (n_samples, ), for example using ravel().\n",
      "  knn.fit(X_train, y_train)\n"
     ]
    }
   ],
   "source": [
    "#creating a model\n",
    "knn = neighbors.KNeighborsClassifier(n_neighbors=25, weights='uniform')\n",
    "#we want to compare the output of the model (which is the trained training data)\\\n",
    "#to the testing data and that gives us the accuracy\n",
    "X_train, X_test, y_train, y_test = train_test_split(X,y, test_size=0.2)\n",
    "knn.fit(X_train, y_train)\n",
    "predictions = knn.predict(X_test) # gather prediction values for testing purposes000000000000000\n",
    "accuracy = metrics.accuracy_score(y_test, predictions)\n",
    "print(\"prediction\", predictions)\n",
    "print(\"accuracy\", accuracy)"
   ]
  },
  {
   "cell_type": "code",
   "execution_count": 17,
   "metadata": {},
   "outputs": [
    {
     "name": "stdout",
     "output_type": "stream",
     "text": [
      "actual value [0]\n",
      "predicted value 0\n",
      "actual value [0]\n",
      "predicted value 0\n"
     ]
    }
   ],
   "source": [
    "print(\"actual value\", y[20])\n",
    "print(\"predicted value\", knn.predict(X)[20])\n",
    "print(\"actual value\", y[2])\n",
    "print(\"predicted value\", knn.predict(X)[2])"
   ]
  },
  {
   "cell_type": "code",
   "execution_count": null,
   "metadata": {},
   "outputs": [],
   "source": []
  }
 ],
 "metadata": {
  "kernelspec": {
   "display_name": "Python 3",
   "language": "python",
   "name": "python3"
  },
  "language_info": {
   "codemirror_mode": {
    "name": "ipython",
    "version": 3
   },
   "file_extension": ".py",
   "mimetype": "text/x-python",
   "name": "python",
   "nbconvert_exporter": "python",
   "pygments_lexer": "ipython3",
   "version": "3.8.5"
  }
 },
 "nbformat": 4,
 "nbformat_minor": 4
}
